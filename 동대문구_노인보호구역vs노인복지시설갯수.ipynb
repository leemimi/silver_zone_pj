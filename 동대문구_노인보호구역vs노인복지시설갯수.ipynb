{
 "cells": [
  {
   "cell_type": "code",
   "execution_count": 13,
   "id": "8fe8c528",
   "metadata": {},
   "outputs": [],
   "source": [
    "import warnings\n",
    "warnings.filterwarnings(action='ignore') \n",
    "import pandas as pd\n",
    "import numpy as np\n",
    "import matplotlib.pyplot as plt\n",
    "from matplotlib import font_manager, rc\n",
    "import matplotlib\n",
    "import platform\n",
    "import seaborn as sns \n",
    "import matplotlib\n",
    "matplotlib.rcParams['font.family']\n",
    "if platform.system() == 'Windows':\n",
    "    matplotlib.rc('font', family='Malgun Gothic')\n",
    "    #Malgun \n",
    "%matplotlib inline"
   ]
  },
  {
   "cell_type": "code",
   "execution_count": 14,
   "id": "9afc0b4e",
   "metadata": {},
   "outputs": [],
   "source": [
    "df1 = pd.read_csv('노인보호시설.csv',encoding='euc-kr')\n",
    "df2 = pd.read_csv('동대문구_노인보호구역위치.csv',encoding='euc-kr')"
   ]
  },
  {
   "cell_type": "code",
   "execution_count": 15,
   "id": "31d51410",
   "metadata": {
    "scrolled": true
   },
   "outputs": [
    {
     "data": {
      "text/html": [
       "<div>\n",
       "<style scoped>\n",
       "    .dataframe tbody tr th:only-of-type {\n",
       "        vertical-align: middle;\n",
       "    }\n",
       "\n",
       "    .dataframe tbody tr th {\n",
       "        vertical-align: top;\n",
       "    }\n",
       "\n",
       "    .dataframe thead th {\n",
       "        text-align: right;\n",
       "    }\n",
       "</style>\n",
       "<table border=\"1\" class=\"dataframe\">\n",
       "  <thead>\n",
       "    <tr style=\"text-align: right;\">\n",
       "      <th></th>\n",
       "      <th>동대문구 복지시설</th>\n",
       "      <th>개수</th>\n",
       "    </tr>\n",
       "  </thead>\n",
       "  <tbody>\n",
       "    <tr>\n",
       "      <th>0</th>\n",
       "      <td>노인교실</td>\n",
       "      <td>15</td>\n",
       "    </tr>\n",
       "    <tr>\n",
       "      <th>1</th>\n",
       "      <td>노인종합복지관</td>\n",
       "      <td>1</td>\n",
       "    </tr>\n",
       "    <tr>\n",
       "      <th>2</th>\n",
       "      <td>노인문화센터</td>\n",
       "      <td>50</td>\n",
       "    </tr>\n",
       "    <tr>\n",
       "      <th>3</th>\n",
       "      <td>경로당</td>\n",
       "      <td>131</td>\n",
       "    </tr>\n",
       "  </tbody>\n",
       "</table>\n",
       "</div>"
      ],
      "text/plain": [
       "  동대문구 복지시설   개수\n",
       "0      노인교실   15\n",
       "1   노인종합복지관    1\n",
       "2    노인문화센터   50\n",
       "3       경로당  131"
      ]
     },
     "execution_count": 15,
     "metadata": {},
     "output_type": "execute_result"
    }
   ],
   "source": [
    "df1"
   ]
  },
  {
   "cell_type": "code",
   "execution_count": 16,
   "id": "48548015",
   "metadata": {},
   "outputs": [],
   "source": [
    "ㅊ"
   ]
  },
  {
   "cell_type": "code",
   "execution_count": 17,
   "id": "3ede08f3",
   "metadata": {},
   "outputs": [
    {
     "data": {
      "text/html": [
       "<div>\n",
       "<style scoped>\n",
       "    .dataframe tbody tr th:only-of-type {\n",
       "        vertical-align: middle;\n",
       "    }\n",
       "\n",
       "    .dataframe tbody tr th {\n",
       "        vertical-align: top;\n",
       "    }\n",
       "\n",
       "    .dataframe thead th {\n",
       "        text-align: right;\n",
       "    }\n",
       "</style>\n",
       "<table border=\"1\" class=\"dataframe\">\n",
       "  <thead>\n",
       "    <tr style=\"text-align: right;\">\n",
       "      <th></th>\n",
       "      <th>장소유형코드</th>\n",
       "      <th>대상시설명</th>\n",
       "      <th>시도명</th>\n",
       "      <th>시군구명</th>\n",
       "      <th>시군구코드</th>\n",
       "      <th>소재지도로명주소</th>\n",
       "      <th>소재지지번주소</th>\n",
       "      <th>위도</th>\n",
       "      <th>경도</th>\n",
       "      <th>제한속도</th>\n",
       "      <th>관리기관명</th>\n",
       "      <th>관리기관전화번호</th>\n",
       "      <th>관할경찰서명</th>\n",
       "      <th>CCTV설치여부</th>\n",
       "      <th>CCTV설치대수</th>\n",
       "      <th>보호구역도로폭</th>\n",
       "      <th>데이터기준일자</th>\n",
       "    </tr>\n",
       "  </thead>\n",
       "  <tbody>\n",
       "    <tr>\n",
       "      <th>0</th>\n",
       "      <td>1</td>\n",
       "      <td>동대문노인종합복지관</td>\n",
       "      <td>서울특별시</td>\n",
       "      <td>동대문구</td>\n",
       "      <td>11230</td>\n",
       "      <td>서울특별시 동대문구 제기로33길 25</td>\n",
       "      <td>서울특별시 동대문구 청량리동 11-1</td>\n",
       "      <td>37.587237</td>\n",
       "      <td>127.050026</td>\n",
       "      <td>30</td>\n",
       "      <td>서울특별시 동대문구</td>\n",
       "      <td>02-2127-4887</td>\n",
       "      <td>동대문경찰서</td>\n",
       "      <td>Y</td>\n",
       "      <td>1</td>\n",
       "      <td>6</td>\n",
       "      <td>2022-02-16</td>\n",
       "    </tr>\n",
       "    <tr>\n",
       "      <th>1</th>\n",
       "      <td>1</td>\n",
       "      <td>중산경노당</td>\n",
       "      <td>서울특별시</td>\n",
       "      <td>동대문구</td>\n",
       "      <td>11230</td>\n",
       "      <td>서울특별시 동대문구 답십리로48길 54</td>\n",
       "      <td>서울특별시 동대문구 답십리동 36-31</td>\n",
       "      <td>37.570357</td>\n",
       "      <td>127.057617</td>\n",
       "      <td>30</td>\n",
       "      <td>서울특별시 동대문구</td>\n",
       "      <td>02-2127-4887</td>\n",
       "      <td>동대문경찰서</td>\n",
       "      <td>Y</td>\n",
       "      <td>1</td>\n",
       "      <td>6</td>\n",
       "      <td>2022-02-16</td>\n",
       "    </tr>\n",
       "    <tr>\n",
       "      <th>2</th>\n",
       "      <td>1</td>\n",
       "      <td>행복마을경노당</td>\n",
       "      <td>서울특별시</td>\n",
       "      <td>동대문구</td>\n",
       "      <td>11230</td>\n",
       "      <td>서울특별시 동대문구 고산자로56길 53</td>\n",
       "      <td>서울특별시 동대문구 제기동 122-444</td>\n",
       "      <td>37.590009</td>\n",
       "      <td>127.038702</td>\n",
       "      <td>30</td>\n",
       "      <td>서울특별시 동대문구</td>\n",
       "      <td>02-2127-4887</td>\n",
       "      <td>동대문경찰서</td>\n",
       "      <td>N</td>\n",
       "      <td>0</td>\n",
       "      <td>6</td>\n",
       "      <td>2022-02-16</td>\n",
       "    </tr>\n",
       "    <tr>\n",
       "      <th>3</th>\n",
       "      <td>1</td>\n",
       "      <td>사)대한노인회</td>\n",
       "      <td>서울특별시</td>\n",
       "      <td>동대문구</td>\n",
       "      <td>11230</td>\n",
       "      <td>서울특별시 동대문구 사가정로 98</td>\n",
       "      <td>서울특별시 동대문구 전농동 295-495</td>\n",
       "      <td>37.576375</td>\n",
       "      <td>127.056342</td>\n",
       "      <td>40</td>\n",
       "      <td>서울특별시 동대문구</td>\n",
       "      <td>02-2127-4887</td>\n",
       "      <td>동대문경찰서</td>\n",
       "      <td>N</td>\n",
       "      <td>0</td>\n",
       "      <td>20</td>\n",
       "      <td>2022-02-16</td>\n",
       "    </tr>\n",
       "    <tr>\n",
       "      <th>4</th>\n",
       "      <td>1</td>\n",
       "      <td>장평경노당</td>\n",
       "      <td>서울특별시</td>\n",
       "      <td>동대문구</td>\n",
       "      <td>11230</td>\n",
       "      <td>서울특별시 동대문구 한천로28길 27</td>\n",
       "      <td>서울특별시 동대문구 장안동 143-26</td>\n",
       "      <td>37.573252</td>\n",
       "      <td>127.068460</td>\n",
       "      <td>30</td>\n",
       "      <td>서울특별시 동대문구</td>\n",
       "      <td>02-2127-4887</td>\n",
       "      <td>동대문경찰서</td>\n",
       "      <td>N</td>\n",
       "      <td>0</td>\n",
       "      <td>7</td>\n",
       "      <td>2022-02-16</td>\n",
       "    </tr>\n",
       "    <tr>\n",
       "      <th>5</th>\n",
       "      <td>1</td>\n",
       "      <td>경동요양병원</td>\n",
       "      <td>서울특별시</td>\n",
       "      <td>동대문구</td>\n",
       "      <td>11230</td>\n",
       "      <td>서울특별시 동대문구 약령시로 124</td>\n",
       "      <td>서울특별시 동대문구 청량리동 689</td>\n",
       "      <td>37.582942</td>\n",
       "      <td>127.043771</td>\n",
       "      <td>30</td>\n",
       "      <td>서울특별시 동대문구</td>\n",
       "      <td>02-2127-4887</td>\n",
       "      <td>동대문경찰서</td>\n",
       "      <td>N</td>\n",
       "      <td>0</td>\n",
       "      <td>20</td>\n",
       "      <td>2022-02-16</td>\n",
       "    </tr>\n",
       "    <tr>\n",
       "      <th>6</th>\n",
       "      <td>1</td>\n",
       "      <td>은천노인종합복지센터</td>\n",
       "      <td>서울특별시</td>\n",
       "      <td>동대문구</td>\n",
       "      <td>11230</td>\n",
       "      <td>서울특별시 동대문구 장한로24길 21</td>\n",
       "      <td>서울특별시 동대문구 장안동 344-7</td>\n",
       "      <td>37.570683</td>\n",
       "      <td>127.072208</td>\n",
       "      <td>30</td>\n",
       "      <td>서울특별시 동대문구</td>\n",
       "      <td>02-2127-4887</td>\n",
       "      <td>동대문경찰서</td>\n",
       "      <td>N</td>\n",
       "      <td>0</td>\n",
       "      <td>6</td>\n",
       "      <td>2022-02-16</td>\n",
       "    </tr>\n",
       "  </tbody>\n",
       "</table>\n",
       "</div>"
      ],
      "text/plain": [
       "   장소유형코드       대상시설명    시도명  시군구명  시군구코드               소재지도로명주소  \\\n",
       "0       1  동대문노인종합복지관  서울특별시  동대문구  11230   서울특별시 동대문구 제기로33길 25   \n",
       "1       1       중산경노당  서울특별시  동대문구  11230  서울특별시 동대문구 답십리로48길 54   \n",
       "2       1     행복마을경노당  서울특별시  동대문구  11230  서울특별시 동대문구 고산자로56길 53   \n",
       "3       1     사)대한노인회  서울특별시  동대문구  11230     서울특별시 동대문구 사가정로 98   \n",
       "4       1       장평경노당  서울특별시  동대문구  11230   서울특별시 동대문구 한천로28길 27   \n",
       "5       1      경동요양병원  서울특별시  동대문구  11230    서울특별시 동대문구 약령시로 124   \n",
       "6       1  은천노인종합복지센터  서울특별시  동대문구  11230   서울특별시 동대문구 장한로24길 21   \n",
       "\n",
       "                  소재지지번주소         위도          경도  제한속도       관리기관명  \\\n",
       "0    서울특별시 동대문구 청량리동 11-1  37.587237  127.050026    30  서울특별시 동대문구   \n",
       "1   서울특별시 동대문구 답십리동 36-31  37.570357  127.057617    30  서울특별시 동대문구   \n",
       "2  서울특별시 동대문구 제기동 122-444  37.590009  127.038702    30  서울특별시 동대문구   \n",
       "3  서울특별시 동대문구 전농동 295-495  37.576375  127.056342    40  서울특별시 동대문구   \n",
       "4   서울특별시 동대문구 장안동 143-26  37.573252  127.068460    30  서울특별시 동대문구   \n",
       "5     서울특별시 동대문구 청량리동 689  37.582942  127.043771    30  서울특별시 동대문구   \n",
       "6    서울특별시 동대문구 장안동 344-7  37.570683  127.072208    30  서울특별시 동대문구   \n",
       "\n",
       "       관리기관전화번호  관할경찰서명 CCTV설치여부  CCTV설치대수  보호구역도로폭     데이터기준일자  \n",
       "0  02-2127-4887  동대문경찰서        Y         1        6  2022-02-16  \n",
       "1  02-2127-4887  동대문경찰서        Y         1        6  2022-02-16  \n",
       "2  02-2127-4887  동대문경찰서        N         0        6  2022-02-16  \n",
       "3  02-2127-4887  동대문경찰서        N         0       20  2022-02-16  \n",
       "4  02-2127-4887  동대문경찰서        N         0        7  2022-02-16  \n",
       "5  02-2127-4887  동대문경찰서        N         0       20  2022-02-16  \n",
       "6  02-2127-4887  동대문경찰서        N         0        6  2022-02-16  "
      ]
     },
     "execution_count": 17,
     "metadata": {},
     "output_type": "execute_result"
    }
   ],
   "source": [
    "df2"
   ]
  },
  {
   "cell_type": "code",
   "execution_count": 23,
   "id": "d21aa710",
   "metadata": {},
   "outputs": [],
   "source": [
    "count2=sum(df2['장소유형코드'])"
   ]
  },
  {
   "cell_type": "code",
   "execution_count": 24,
   "id": "9360a3ee",
   "metadata": {},
   "outputs": [],
   "source": [
    "count = [count1,count2]"
   ]
  },
  {
   "cell_type": "code",
   "execution_count": 28,
   "id": "facd9c65",
   "metadata": {},
   "outputs": [],
   "source": [
    "all = pd.DataFrame(count)"
   ]
  },
  {
   "cell_type": "code",
   "execution_count": 35,
   "id": "c58301c8",
   "metadata": {},
   "outputs": [],
   "source": [
    "all.columns = ['갯수']"
   ]
  },
  {
   "cell_type": "code",
   "execution_count": 36,
   "id": "e12d3e8d",
   "metadata": {},
   "outputs": [],
   "source": [
    "all.rename(index={0:'동대문구_노인 복지시설',1:'동대문구_노인 보호구역'},inplace=True)"
   ]
  },
  {
   "cell_type": "code",
   "execution_count": 37,
   "id": "9ffda7f7",
   "metadata": {},
   "outputs": [
    {
     "data": {
      "text/html": [
       "<div>\n",
       "<style scoped>\n",
       "    .dataframe tbody tr th:only-of-type {\n",
       "        vertical-align: middle;\n",
       "    }\n",
       "\n",
       "    .dataframe tbody tr th {\n",
       "        vertical-align: top;\n",
       "    }\n",
       "\n",
       "    .dataframe thead th {\n",
       "        text-align: right;\n",
       "    }\n",
       "</style>\n",
       "<table border=\"1\" class=\"dataframe\">\n",
       "  <thead>\n",
       "    <tr style=\"text-align: right;\">\n",
       "      <th></th>\n",
       "      <th>갯수</th>\n",
       "    </tr>\n",
       "  </thead>\n",
       "  <tbody>\n",
       "    <tr>\n",
       "      <th>노인 복지시설</th>\n",
       "      <td>197</td>\n",
       "    </tr>\n",
       "    <tr>\n",
       "      <th>노인 보호구역</th>\n",
       "      <td>7</td>\n",
       "    </tr>\n",
       "  </tbody>\n",
       "</table>\n",
       "</div>"
      ],
      "text/plain": [
       "          갯수\n",
       "노인 복지시설  197\n",
       "노인 보호구역    7"
      ]
     },
     "execution_count": 37,
     "metadata": {},
     "output_type": "execute_result"
    }
   ],
   "source": [
    "all"
   ]
  },
  {
   "cell_type": "code",
   "execution_count": 38,
   "id": "e039b538",
   "metadata": {},
   "outputs": [
    {
     "data": {
      "image/png": "[encoded data removed]",
      "text/plain": [
       "<Figure size 432x288 with 1 Axes>"
      ]
     },
     "metadata": {},
     "output_type": "display_data"
    }
   ],
   "source": [
    "data =all['갯수']\n",
    "colors = ['#99CCFF','#AAB9FF']\n",
    "wedgeprops = {'width':0.7, 'edgecolor':'w','linewidth':5 }\n",
    "plt.title('동대문구_노인보호구역과 노인 복지시설 갯수')\n",
    "plt.pie(data, labels=all.index, autopct='%.1f%%',startangle=260, counterclock=False,colors=colors, wedgeprops=wedgeprops)\n",
    "plt.show()"
   ]
  },
  {
   "cell_type": "code",
   "execution_count": null,
   "id": "8e37cba0",
   "metadata": {},
   "outputs": [],
   "source": []
  }
 ],
 "metadata": {
  "kernelspec": {
   "display_name": "Python 3 (ipykernel)",
   "language": "python",
   "name": "python3"
  },
  "language_info": {
   "codemirror_mode": {
    "name": "ipython",
    "version": 3
   },
   "file_extension": ".py",
   "mimetype": "text/x-python",
   "name": "python",
   "nbconvert_exporter": "python",
   "pygments_lexer": "ipython3",
   "version": "3.9.12"
  }
 },
 "nbformat": 4,
 "nbformat_minor": 5
}
